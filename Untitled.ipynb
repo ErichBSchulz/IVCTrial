{
 "cells": [
  {
   "cell_type": "code",
   "execution_count": 1,
   "metadata": {},
   "outputs": [
    {
     "name": "stderr",
     "output_type": "stream",
     "text": [
      "<ipython-input-1-671c22135d7b>:16: FutureWarning: Support for multi-dimensional indexing (e.g. `obj[:, None]`) is deprecated and will be removed in a future version.  Convert to a numpy array before indexing instead.\n",
      "  fakedata['x'][:, None], # exog\n"
     ]
    }
   ],
   "source": [
    "import numpy as np                                                                                         \n",
    "import statsmodels.api as sm                                                                               \n",
    "import pandas as pd                                                                                        \n",
    "                                                                                                           \n",
    "# create fake data                                                                                         \n",
    "# y: binary response                                                                                       \n",
    "# x: continuous predictor                                                                                  \n",
    "# re: three class random intercepts                                                                        \n",
    "fakedata = pd.DataFrame({'y' : np.random.sample(50).round(),                                               \n",
    "                         'x' : np.random.sample(50),                                                       \n",
    "                         're' : (np.random.sample(50)*2).round().astype(int).astype(str)})\n",
    "                                                          \n",
    "# this is implemented as I understand the doc:                                                             \n",
    "binom_model = sm.BinomialBayesMixedGLM(                                                                    \n",
    "                                       fakedata['y'], # endog                                              \n",
    "                                       fakedata['x'][:, None], # exog                                      \n",
    "                                       pd.get_dummies(fakedata['re']), # Array of covariates for the random\n",
    "                                       np.r_[0, 0, 0]) # ident, columns of exog_vc                         \n",
    "binom_result = binom_model.fit_vb()     \n"
   ]
  },
  {
   "cell_type": "code",
   "execution_count": 2,
   "metadata": {},
   "outputs": [
    {
     "data": {
      "text/html": [
       "<table class=\"simpletable\">\n",
       "<tr>\n",
       "    <td></td>   <th>Type</th> <th>Post. Mean</th> <th>Post. SD</th>  <th>SD</th>   <th>SD (LB)</th> <th>SD (UB)</th>\n",
       "</tr>\n",
       "<tr>\n",
       "  <th>FE_1</th>   <td>M</td>    <td>-0.0015</td>   <td>0.4942</td>    <td></td>       <td></td>        <td></td>    \n",
       "</tr>\n",
       "<tr>\n",
       "  <th>VC_1</th>   <td>V</td>    <td>-0.8470</td>   <td>0.4341</td>  <td>0.429</td>  <td>0.180</td>   <td>1.021</td> \n",
       "</tr>\n",
       "</table>"
      ],
      "text/plain": [
       "<class 'statsmodels.iolib.summary2.Summary'>\n",
       "\"\"\"\n",
       "            Binomial Mixed GLM Results\n",
       "===================================================\n",
       "     Type Post. Mean Post. SD   SD  SD (LB) SD (UB)\n",
       "---------------------------------------------------\n",
       "FE_1    M    -0.0015   0.4942                      \n",
       "VC_1    V    -0.8470   0.4341 0.429   0.180   1.021\n",
       "===================================================\n",
       "Parameter types are mean structure (M) and variance\n",
       "structure (V)\n",
       "Variance parameters are modeled as log standard\n",
       "deviations\n",
       "\"\"\""
      ]
     },
     "metadata": {},
     "output_type": "display_data"
    }
   ],
   "source": [
    "display(binom_result.summary())"
   ]
  },
  {
   "cell_type": "code",
   "execution_count": 5,
   "metadata": {},
   "outputs": [
    {
     "name": "stdout",
     "output_type": "stream",
     "text": [
      "0 0 0\n",
      "1 1 0\n",
      "2 2 0\n",
      "3 3 0\n",
      "0 1 1\n",
      "1 2 1\n",
      "2 3 1\n",
      "3 0 1\n",
      "0 2 2\n",
      "1 3 2\n",
      "2 0 2\n",
      "3 1 2\n",
      "0 3 3\n",
      "1 0 3\n",
      "2 1 3\n",
      "3 2 3\n",
      "0 0 4\n",
      "1 1 4\n",
      "2 2 4\n",
      "3 3 4\n"
     ]
    }
   ],
   "source": [
    "max_precooked = 4\n",
    "trials = 20\n",
    "\n",
    "for y in range(trials):\n",
    "    cycles = int(y/max_precooked)\n",
    "    a = y % max_precooked\n",
    "    b = (y % max_precooked + cycles)% max_precooked\n",
    "    print(a,b,cycles)"
   ]
  },
  {
   "cell_type": "code",
   "execution_count": null,
   "metadata": {},
   "outputs": [],
   "source": []
  }
 ],
 "metadata": {
  "kernelspec": {
   "display_name": "Python 3",
   "language": "python",
   "name": "python3"
  },
  "language_info": {
   "codemirror_mode": {
    "name": "ipython",
    "version": 3
   },
   "file_extension": ".py",
   "mimetype": "text/x-python",
   "name": "python",
   "nbconvert_exporter": "python",
   "pygments_lexer": "ipython3",
   "version": "3.8.8"
  }
 },
 "nbformat": 4,
 "nbformat_minor": 4
}
